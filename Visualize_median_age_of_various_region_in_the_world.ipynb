{
  "nbformat": 4,
  "nbformat_minor": 0,
  "metadata": {
    "colab": {
      "provenance": [],
      "authorship_tag": "ABX9TyMV3r0yqwmT30wFHl3mkBvt",
      "include_colab_link": true
    },
    "kernelspec": {
      "name": "python3",
      "display_name": "Python 3"
    },
    "language_info": {
      "name": "python"
    }
  },
  "cells": [
    {
      "cell_type": "markdown",
      "metadata": {
        "id": "view-in-github",
        "colab_type": "text"
      },
      "source": [
        "<a href=\"https://colab.research.google.com/github/MafiAtUN/UNGA_youthforum_viz/blob/main/Visualize_median_age_of_various_region_in_the_world.ipynb\" target=\"_parent\"><img src=\"https://colab.research.google.com/assets/colab-badge.svg\" alt=\"Open In Colab\"/></a>"
      ]
    },
    {
      "cell_type": "code",
      "source": [
        "#importing packages\n",
        "import pandas as pd\n",
        "import matplotlib.pyplot as plt\n"
      ],
      "metadata": {
        "id": "WJ1dmPjI0OaF"
      },
      "execution_count": 1,
      "outputs": []
    },
    {
      "cell_type": "code",
      "source": [
        "# create a dictionary of data\n",
        "\n",
        "data = {\n",
        "    'Region': ['Africa', 'Europe', 'Asia', 'North America', 'South America', 'Oceania'],\n",
        "    'Median Age': [19.7, 42.5, 32.0, 38.6, 31.0, 33.4],\n",
        "    'Year': [2021, 2021, 2021, 2021, 2021, 2021],\n",
        "    'Source': ['United Nations', 'United Nations', 'United Nations', 'United Nations', 'United Nations', 'United Nations']\n",
        "}\n",
        "\n",
        "# create a dataframe from the dictionary\n",
        "df = pd.DataFrame(data)\n",
        "\n"
      ],
      "metadata": {
        "id": "erVP46vh0RQF"
      },
      "execution_count": null,
      "outputs": []
    },
    {
      "cell_type": "code",
      "execution_count": null,
      "metadata": {
        "id": "rKq80XuxzqgY"
      },
      "outputs": [],
      "source": [
        "from matplotlib.offsetbox import OffsetImage, AnnotationBbox\n",
        "\n",
        "# Function to add image on the bars\n",
        "def add_image(image_path, location, ax):\n",
        "    img = plt.imread(image_path)\n",
        "    imagebox = OffsetImage(img, zoom=0.1)\n",
        "    ab = AnnotationBbox(imagebox, location, frameon=False, box_alignment=(0.5, 0.5))\n",
        "    ax.add_artist(ab)\n",
        "\n",
        "# Create bar chart with images\n",
        "fig, ax = plt.subplots(figsize=(12, 8))\n",
        "\n",
        "bars = plt.barh(regions, median_age, color='skyblue')\n",
        "\n",
        "plt.xlabel('Median Age')\n",
        "plt.title('Median Age of Population by Region (2021)')\n",
        "plt.gca().invert_yaxis()\n",
        "\n",
        "# Add images on the bars\n",
        "image_paths = [\n",
        "    'icons/young_person.png',\n",
        "    'icons/old_person.png',\n",
        "    'icons/middle_aged_person.png',\n",
        "    'icons/middle_aged_person.png',\n",
        "    'icons/middle_aged_person.png',\n",
        "    'icons/middle_aged_person.png'\n",
        "]\n",
        "\n",
        "for bar, image_path in zip(bars, image_paths):\n",
        "    width = bar.get_width()\n",
        "    add_image(image_path, (width - 3, bar.get_y() + bar.get_height()/2), ax)\n",
        "\n",
        "plt.show()\n"
      ]
    }
  ]
}